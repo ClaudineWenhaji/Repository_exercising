{
  "cells": [
    {
      "cell_type": "markdown",
      "metadata": {
        "colab_type": "text",
        "id": "ARXMbV_Vp5qc"
      },
      "source": [
        "# Mathematically Oriented Programming"
      ]
    },
    {
      "cell_type": "markdown",
      "metadata": {
        "colab_type": "text",
        "id": "1JYqlALqp73y"
      },
      "source": [
        "_Mathematics, in general, we don't like to do it. Especially when it involves repeating operations, over and over again. Let's be real lazy and create a class that will do the operations we want for us._"
      ]
    },
    {
      "cell_type": "markdown",
      "metadata": {
        "colab_type": "text",
        "id": "Lc3ol0PSp98l"
      },
      "source": [
        "1. _Create a class to be called \"math.\"_\n",
        "2. _This class will have no internal attributes, so you don't need to define an init() _\n",
        "3. _Create a method that will compute the square root of any number._\n",
        "4. _Create a method that will calculate the average of any list of numbers._\n",
        "5. _Create a method to find out if a number is even or odd_.\n",
        "6. _Finally, create a method that will give the total sum of a list of numbers._\n"
      ]
    },
    {
      "cell_type": "code",
      "execution_count": 22,
      "metadata": {
        "colab": {
          "base_uri": "https://localhost:8080/",
          "height": 104
        },
        "colab_type": "code",
        "id": "xFLBlgj1pndw",
        "outputId": "44506b62-75cb-416a-895e-848ef632a530"
      },
      "outputs": [],
      "source": [
        "class math:     # ici vu que les fonctions ci dessous ne serviront qu'individuellement, pas besoin d'instancier ma classe\n",
        "\n",
        "    def square_root(number):\n",
        "        sqrt = number**0.5\n",
        "        print(\"The square root of \", number, \"is\", sqrt)\n",
        "        return sqrt\n",
        "    \n",
        "    def average(list_of_numbers):\n",
        "        nber = 0\n",
        "        length = 0\n",
        "        for i in list_of_numbers:\n",
        "            nber += 1\n",
        "            length += i\n",
        "            moyenne = nber/length\n",
        "            print(\"The average of the list of numbers is\", moyenne)\n",
        "            return moyenne\n",
        "    \n",
        "    def parity(N):\n",
        "\n",
        "        rest = N/2 \n",
        "        if rest == 0:  \n",
        "           print(\"number\", N, \"is Even\")\n",
        "        else:\n",
        "           print(\"number\", N, \"is Odd\")\n",
        "\n",
        "    def sum(list_of_numbers):\n",
        "        somme = 0\n",
        "        for i in list_of_numbers:\n",
        "            somme += 1\n",
        "        print(\"The average of the list of numbers is\", somme)\n",
        "        return somme\n",
        "     \n"
      ]
    },
    {
      "cell_type": "code",
      "execution_count": 23,
      "metadata": {},
      "outputs": [
        {
          "name": "stdout",
          "output_type": "stream",
          "text": [
            "The square root of  10 is 3.1622776601683795\n",
            "number 10 is Odd\n",
            "The average of the list of numbers is 1.0\n",
            "The average of the list of numbers is 6\n"
          ]
        },
        {
          "data": {
            "text/plain": [
              "6"
            ]
          },
          "execution_count": 23,
          "metadata": {},
          "output_type": "execute_result"
        }
      ],
      "source": [
        "math.square_root(number=10)\n",
        "math.parity(10)\n",
        "math.average([1, 2, 3, 4, 6, 10]) ## Ces 2 lignes sont à revoir\n",
        "math.sum([1, 2, 3, 4, 6, 10])\n",
        "\n"
      ]
    }
  ],
  "metadata": {
    "colab": {
      "name": "Programmation Orientée Mathématiques - Exercice S1-3.ipynb",
      "provenance": [],
      "version": "0.3.2"
    },
    "kernelspec": {
      "display_name": "Python 3",
      "name": "python3"
    },
    "language_info": {
      "codemirror_mode": {
        "name": "ipython",
        "version": 3
      },
      "file_extension": ".py",
      "mimetype": "text/x-python",
      "name": "python",
      "nbconvert_exporter": "python",
      "pygments_lexer": "ipython3",
      "version": "3.11.5"
    }
  },
  "nbformat": 4,
  "nbformat_minor": 0
}
